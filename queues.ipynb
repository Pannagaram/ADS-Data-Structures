{
 "cells": [
  {
   "cell_type": "markdown",
   "id": "7b85d870",
   "metadata": {},
   "source": [
    "Implement “Simple Queue” using list data structure. "
   ]
  },
  {
   "cell_type": "code",
   "execution_count": 2,
   "id": "e3797c96",
   "metadata": {},
   "outputs": [
    {
     "name": "stdout",
     "output_type": "stream",
     "text": [
      "1. SimpleQueue\n",
      "Queue: [10, 20, 30]\n",
      "Dequeued: 10\n",
      "Queue after dequeue: [20, 30]\n",
      "\n"
     ]
    }
   ],
   "source": [
    "class SimpleQueue:\n",
    "    def __init__(self):\n",
    "        self.queue = []\n",
    "\n",
    "    def enqueue(self, item):\n",
    "        self.queue.append(item)\n",
    "\n",
    "    def dequeue(self):\n",
    "        if self.is_empty():\n",
    "            raise IndexError(\"Queue is empty.\")\n",
    "        return self.queue.pop(0)\n",
    "\n",
    "    def is_empty(self):\n",
    "        return len(self.queue) == 0\n",
    "\n",
    "    def display(self):\n",
    "        return self.queue.copy()\n",
    "\n",
    "print(\"1. SimpleQueue\")\n",
    "q1 = SimpleQueue()\n",
    "q1.enqueue(10)\n",
    "q1.enqueue(20)\n",
    "q1.enqueue(30)\n",
    "print(\"Queue:\", q1.display())      \n",
    "print(\"Dequeued:\", q1.dequeue())   \n",
    "print(\"Queue after dequeue:\", q1.display())  \n",
    "print()\n"
   ]
  },
  {
   "cell_type": "markdown",
   "id": "04903f93",
   "metadata": {},
   "source": [
    "Modify Q1 such that Simple Queue can contain limited amount of elements. "
   ]
  },
  {
   "cell_type": "code",
   "execution_count": 3,
   "id": "ca88ddae",
   "metadata": {},
   "outputs": [
    {
     "name": "stdout",
     "output_type": "stream",
     "text": [
      "2. BoundedQueue\n",
      "Queue: [1, 2, 3]\n",
      "Error: Queue is full.\n",
      "Dequeued: 1\n",
      "Queue after dequeue: [2, 3]\n"
     ]
    }
   ],
   "source": [
    "class BoundedQueue:\n",
    "    def __init__(self, capacity):\n",
    "        self.queue = []\n",
    "        self.capacity = capacity\n",
    "\n",
    "    def enqueue(self, item):\n",
    "        if len(self.queue) >= self.capacity:\n",
    "            raise OverflowError(\"Queue is full.\")\n",
    "        self.queue.append(item)\n",
    "\n",
    "    def dequeue(self):\n",
    "        if self.is_empty():\n",
    "            raise IndexError(\"Queue is empty.\")\n",
    "        return self.queue.pop(0)\n",
    "\n",
    "    def is_empty(self):\n",
    "        return len(self.queue) == 0\n",
    "\n",
    "    def is_full(self):\n",
    "        return len(self.queue) == self.capacity\n",
    "\n",
    "    def display(self):\n",
    "        return self.queue.copy()\n",
    "\n",
    "print(\"2. BoundedQueue\")\n",
    "q2 = BoundedQueue(capacity=3)\n",
    "q2.enqueue(1)\n",
    "q2.enqueue(2)\n",
    "q2.enqueue(3)\n",
    "print(\"Queue:\", q2.display())  \n",
    "try:\n",
    "    q2.enqueue(4)  #\n",
    "except OverflowError as e:\n",
    "    print(\"Error:\", e)\n",
    "print(\"Dequeued:\", q2.dequeue())  \n",
    "print(\"Queue after dequeue:\", q2.display()) "
   ]
  },
  {
   "cell_type": "markdown",
   "id": "e22e5ee4",
   "metadata": {},
   "source": [
    "Implement “FlexiQueue” with capacity to expand and shrunk based on elements to be \n",
    "added or deleted. "
   ]
  },
  {
   "cell_type": "code",
   "execution_count": 4,
   "id": "77191c8b",
   "metadata": {},
   "outputs": [
    {
     "name": "stdout",
     "output_type": "stream",
     "text": [
      "3. FlexiQueue\n",
      "Queue: [0, 10, 20, 30, 40]\n",
      "Dequeued: 0\n",
      "Queue after dequeue: [10, 20, 30, 40]\n",
      "\n"
     ]
    }
   ],
   "source": [
    "class FlexiQueue:\n",
    "    def __init__(self):\n",
    "        self.queue = []\n",
    "\n",
    "    def enqueue(self, item):\n",
    "        self.queue.append(item)\n",
    "\n",
    "    def dequeue(self):\n",
    "        if self.is_empty():\n",
    "            raise IndexError(\"Queue is empty.\")\n",
    "        return self.queue.pop(0)\n",
    "\n",
    "    def is_empty(self):\n",
    "        return len(self.queue) == 0\n",
    "\n",
    "    def size(self):\n",
    "        return len(self.queue)\n",
    "\n",
    "    def display(self):\n",
    "        return self.queue.copy()\n",
    "\n",
    "print(\"3. FlexiQueue\")\n",
    "q3 = FlexiQueue()\n",
    "for i in range(5):\n",
    "    q3.enqueue(i * 10)\n",
    "print(\"Queue:\", q3.display())  \n",
    "print(\"Dequeued:\", q3.dequeue())  \n",
    "print(\"Queue after dequeue:\", q3.display())  \n",
    "print()\n"
   ]
  },
  {
   "cell_type": "markdown",
   "id": "4912da3f",
   "metadata": {},
   "source": [
    "Implement Stack using two Queues"
   ]
  },
  {
   "cell_type": "code",
   "execution_count": null,
   "id": "c9b24cf7",
   "metadata": {},
   "outputs": [
    {
     "name": "stdout",
     "output_type": "stream",
     "text": [
      "4. StackUsingQueues\n",
      "Top: 3\n",
      "Pop: 3\n",
      "Top after pop: 2\n",
      "\n"
     ]
    }
   ],
   "source": [
    "from collections import deque\n",
    "\n",
    "class StackUsingQueues:\n",
    "    def __init__(self):\n",
    "        self.q1 = deque()\n",
    "        self.q2 = deque()\n",
    "\n",
    "    def push(self, item):\n",
    "        self.q2.append(item)\n",
    "        while self.q1:\n",
    "            self.q2.append(self.q1.popleft())\n",
    "        self.q1, self.q2 = self.q2, self.q1\n",
    "\n",
    "    def pop(self):\n",
    "        if not self.q1:\n",
    "            raise IndexError(\"Stack is empty.\")\n",
    "        return self.q1.popleft()\n",
    "\n",
    "    def top(self):\n",
    "        if not self.q1:\n",
    "            raise IndexError(\"Stack is empty.\")\n",
    "        return self.q1[0]\n",
    "\n",
    "    def is_empty(self):\n",
    "        return not self.q1\n",
    "\n",
    "print(\"4. StackUsingQueues\")\n",
    "s1 = StackUsingQueues()\n",
    "s1.push(1)\n",
    "s1.push(2)\n",
    "s1.push(3)\n",
    "print(\"Top:\", s1.top())  \n",
    "print(\"Pop:\", s1.pop())  \n",
    "print(\"Top after pop:\", s1.top())  \n",
    "print()"
   ]
  },
  {
   "cell_type": "markdown",
   "id": "2b0b4e44",
   "metadata": {},
   "source": [
    "Implement Queue using two Stacks "
   ]
  },
  {
   "cell_type": "code",
   "execution_count": null,
   "id": "61c01f42",
   "metadata": {},
   "outputs": [
    {
     "name": "stdout",
     "output_type": "stream",
     "text": [
      "5. QueueUsingStacks\n",
      "Dequeue: 100\n",
      "Dequeue: 200\n",
      "Dequeue: 300\n",
      "Dequeue: 400\n",
      "\n"
     ]
    }
   ],
   "source": [
    "class QueueUsingStacks:\n",
    "    def __init__(self):\n",
    "        self.s1 = []\n",
    "        self.s2 = []\n",
    "\n",
    "    def enqueue(self, item):\n",
    "        self.s1.append(item)\n",
    "\n",
    "    def dequeue(self):\n",
    "        if not self.s2:\n",
    "            while self.s1:\n",
    "                self.s2.append(self.s1.pop())\n",
    "        if not self.s2:\n",
    "            raise IndexError(\"Queue is empty.\")\n",
    "        return self.s2.pop()\n",
    "\n",
    "    def is_empty(self):\n",
    "        return not (self.s1 or self.s2)\n",
    "\n",
    "print(\"5. QueueUsingStacks\")\n",
    "q5 = QueueUsingStacks()\n",
    "q5.enqueue(100)\n",
    "q5.enqueue(200)\n",
    "q5.enqueue(300)\n",
    "print(\"Dequeue:\", q5.dequeue())  \n",
    "print(\"Dequeue:\", q5.dequeue())  \n",
    "q5.enqueue(400)\n",
    "print(\"Dequeue:\", q5.dequeue())  \n",
    "print(\"Dequeue:\", q5.dequeue())  \n",
    "print()"
   ]
  },
  {
   "cell_type": "markdown",
   "id": "23eb403d",
   "metadata": {},
   "source": [
    "Assume that we have Queue with some elements. Write method rotate() which added \n",
    "the existing elements in the reverse order."
   ]
  },
  {
   "cell_type": "code",
   "execution_count": 11,
   "id": "86935010",
   "metadata": {},
   "outputs": [
    {
     "name": "stdout",
     "output_type": "stream",
     "text": [
      "6. rotate()\n",
      "Original Queue: [1, 2, 3, 4, 5]\n",
      "Reversed Queue: [5, 4, 3, 2, 1]\n"
     ]
    }
   ],
   "source": [
    "def rotate(queue):\n",
    "    stack = []\n",
    "    while queue:\n",
    "        stack.append(queue.pop(0))\n",
    "    while stack:\n",
    "        queue.append(stack.pop())\n",
    "    return queue\n",
    "\n",
    "print(\"6. rotate()\")\n",
    "q6 = [1, 2, 3, 4, 5]\n",
    "print(\"Original Queue:\", q6)\n",
    "rotate(q6)\n",
    "print(\"Reversed Queue:\", q6)"
   ]
  },
  {
   "cell_type": "markdown",
   "id": "d720548a",
   "metadata": {},
   "source": [
    "Implement findMax() method, which return the maximum value of element present in \n",
    "the queue. After finding maximum element, queue content should be same as original."
   ]
  },
  {
   "cell_type": "code",
   "execution_count": 10,
   "id": "26d171b7",
   "metadata": {},
   "outputs": [
    {
     "name": "stdout",
     "output_type": "stream",
     "text": [
      "7. findMax()\n",
      "Original Queue: [3, 1, 7, 5, 2]\n",
      "Max Value: 7\n",
      "Queue after findMax(): [3, 1, 7, 5, 2]\n",
      "\n"
     ]
    }
   ],
   "source": [
    "def findMax(queue):\n",
    "    max_val = float('-inf')\n",
    "    size = len(queue)\n",
    "    for _ in range(size):\n",
    "        val = queue.pop(0)\n",
    "        max_val = max(max_val, val)\n",
    "        queue.append(val)\n",
    "    return max_val\n",
    "\n",
    "print(\"7. findMax()\")\n",
    "q7 = [3, 1, 7, 5, 2]\n",
    "print(\"Original Queue:\", q7)\n",
    "max_val = findMax(q7)\n",
    "print(\"Max Value:\", max_val)  \n",
    "print(\"Queue after findMax():\", q7) \n",
    "print()"
   ]
  }
 ],
 "metadata": {
  "kernelspec": {
   "display_name": "Python 3",
   "language": "python",
   "name": "python3"
  },
  "language_info": {
   "codemirror_mode": {
    "name": "ipython",
    "version": 3
   },
   "file_extension": ".py",
   "mimetype": "text/x-python",
   "name": "python",
   "nbconvert_exporter": "python",
   "pygments_lexer": "ipython3",
   "version": "3.11.4"
  }
 },
 "nbformat": 4,
 "nbformat_minor": 5
}
