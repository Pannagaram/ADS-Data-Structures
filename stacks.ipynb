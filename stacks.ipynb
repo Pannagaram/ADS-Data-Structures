{
 "cells": [
  {
   "cell_type": "markdown",
   "id": "226157ca",
   "metadata": {},
   "source": [
    "Implementation of Unlimited size stack "
   ]
  },
  {
   "cell_type": "code",
   "execution_count": 2,
   "id": "370c1a5a",
   "metadata": {},
   "outputs": [
    {
     "name": "stdout",
     "output_type": "stream",
     "text": [
      "[1, 2, 3, 1]\n",
      "1\n",
      "3\n"
     ]
    }
   ],
   "source": [
    "class unlimited_stack:\n",
    "    def __init__(self):\n",
    "        self.items = []\n",
    "    \n",
    "    def push(self, item):\n",
    "        self.items.append(item)\n",
    "    \n",
    "    def pop(self):\n",
    "        if not self.is_empty():\n",
    "            return self.items.pop()\n",
    "        else:\n",
    "            return \"Stack is empty!\"\n",
    "            \n",
    "    \n",
    "    def peek(self):\n",
    "        if not self.is_empty():\n",
    "            return self.items[-1]\n",
    "        else:\n",
    "            return \"Stack is empty!\" \n",
    "            \n",
    "        \n",
    "    def is_empty(self):\n",
    "        return len(self.items) == 0\n",
    "\n",
    "stack = unlimited_stack()\n",
    "(stack.push(1))\n",
    "(stack.push(2))\n",
    "(stack.push(3))\n",
    "(stack.push(1))\n",
    "print(stack.items)\n",
    "print(stack.pop())\n",
    "print(stack.peek())"
   ]
  },
  {
   "cell_type": "markdown",
   "id": "6445c632",
   "metadata": {},
   "source": [
    "Implementation of Limited size stack "
   ]
  },
  {
   "cell_type": "code",
   "execution_count": 6,
   "id": "f675ee8a",
   "metadata": {},
   "outputs": [
    {
     "name": "stdout",
     "output_type": "stream",
     "text": [
      "None\n",
      "None\n",
      "None\n",
      "Stack is overflow!\n",
      "[1, 2, 3]\n",
      "3\n",
      "2\n"
     ]
    }
   ],
   "source": [
    "class limited_stack:\n",
    "    def __init__(self, limit):\n",
    "        self.items = []\n",
    "        self.limit = limit\n",
    "\n",
    "    def push(self, item):\n",
    "        if len(self.items) < self.limit:\n",
    "            return self.items.append(item)\n",
    "        else:\n",
    "            return \"Stack is overflow!\"\n",
    "        \n",
    "    def pop(self):\n",
    "        if not self.is_empty():\n",
    "            return self.items.pop()\n",
    "        else:\n",
    "            return \"Stack is underflow!\"\n",
    "            \n",
    "    def peek(self):\n",
    "        if not self.is_empty():\n",
    "            return self.items[-1]\n",
    "        else:\n",
    "            return \"Stack is empty!\" \n",
    "        \n",
    "    def is_empty(self):\n",
    "        return len(self.items) == 0\n",
    "\n",
    "stack = limited_stack(3)\n",
    "print(stack.push(1))\n",
    "print(stack.push(2))\n",
    "print(stack.push(3))\n",
    "print(stack.push(4))\n",
    "print(stack.items)\n",
    "print(stack.pop())\n",
    "print(stack.peek())"
   ]
  },
  {
   "cell_type": "markdown",
   "id": "e8823bb5",
   "metadata": {},
   "source": [
    "Reverse the content of file using Stack"
   ]
  },
  {
   "cell_type": "code",
   "execution_count": 7,
   "id": "960e0358",
   "metadata": {},
   "outputs": [],
   "source": [
    "class reversed_file:\n",
    "    def __init__(self, input_file, output_file):\n",
    "        self.input_file = input_file\n",
    "        self.output_file = output_file\n",
    "        self.stack = []\n",
    "    \n",
    "    def reverse_file_content(self):\n",
    "        with open (self.input_file, 'r') as file:\n",
    "            content = file.read()\n",
    "\n",
    "            for char in content:\n",
    "                self.stack.append(char)\n",
    "            \n",
    "            reversed_content = ''\n",
    "\n",
    "            while self.stack:\n",
    "                reversed_content += self.stack.pop()\n",
    "\n",
    "        with open (self.output_file, 'w') as file:\n",
    "            file.write(reversed_content)\n",
    "\n",
    "\n",
    "reverse = reversed_file('original.txt', 'reverse.txt')\n",
    "reverse.reverse_file_content()"
   ]
  },
  {
   "cell_type": "markdown",
   "id": "d51cc997",
   "metadata": {},
   "source": [
    "Match the parentheses using Stack "
   ]
  },
  {
   "cell_type": "code",
   "execution_count": 8,
   "id": "2a8a1546",
   "metadata": {},
   "outputs": [
    {
     "name": "stdout",
     "output_type": "stream",
     "text": [
      "True\n",
      "False\n"
     ]
    }
   ],
   "source": [
    "class ParenthesesMatcher:\n",
    "    def __init__(self):\n",
    "        self.pairs = {')': '(', ']': '[', '}': '{'}\n",
    "\n",
    "    def match(self, expr: str) -> bool:\n",
    "        stack = []\n",
    "        for ch in expr:\n",
    "            if ch in '([{':\n",
    "                stack.append(ch)\n",
    "            elif ch in ')]}':\n",
    "                if not stack or stack.pop() != self.pairs[ch]:\n",
    "                    return False\n",
    "        return len(stack) == 0\n",
    "\n",
    "pm = ParenthesesMatcher()\n",
    "print(pm.match(\"({[]})\"))  \n",
    "print(pm.match(\"({[)]}\")) "
   ]
  },
  {
   "cell_type": "markdown",
   "id": "a51db741",
   "metadata": {},
   "source": [
    " Match the tags in HTML file using Stack"
   ]
  },
  {
   "cell_type": "code",
   "execution_count": null,
   "id": "21781a55",
   "metadata": {},
   "outputs": [
    {
     "name": "stdout",
     "output_type": "stream",
     "text": [
      "False\n"
     ]
    }
   ],
   "source": [
    "import re\n",
    "\n",
    "class HTMLTagMatcher:\n",
    "    def __init__(self):\n",
    "        pass\n",
    "\n",
    "    def match(self, html: str) -> bool:\n",
    "        tags = re.findall(r'</?([a-zA-Z0-9]+)>', html)\n",
    "        stack = []\n",
    "        for tag in tags:\n",
    "            if not tag.startswith('/'):\n",
    "                stack.append(tag)\n",
    "            else:\n",
    "                if not stack or stack.pop() != tag[1:]:\n",
    "                    return False\n",
    "        return len(stack) == 0\n",
    "\n",
    "matcher = HTMLTagMatcher()\n",
    "print(matcher.match(\"<html><body><h1></h1></body></html>\")) "
   ]
  },
  {
   "cell_type": "markdown",
   "id": "39a03ecc",
   "metadata": {},
   "source": [
    "Implement a function with signature transfer(S,T). This function transfers all elements \n",
    "from Stack S to Stack T. The sequence of elements in T should be same as that of S."
   ]
  },
  {
   "cell_type": "code",
   "execution_count": null,
   "id": "f7b9269b",
   "metadata": {},
   "outputs": [
    {
     "name": "stdout",
     "output_type": "stream",
     "text": [
      "[1, 2, 3]\n"
     ]
    }
   ],
   "source": [
    "class StackTransfer:\n",
    "    def transfer(self, S: list, T: list) -> None:\n",
    "        temp = []\n",
    "        while S:\n",
    "            temp.append(S.pop())\n",
    "        while temp:\n",
    "            T.append(temp.pop())\n",
    "\n",
    "trans = StackTransfer()\n",
    "S = [1, 2, 3]\n",
    "T = []\n",
    "trans.transfer(S, T)\n",
    "print(T)"
   ]
  },
  {
   "cell_type": "markdown",
   "id": "b6ca9031",
   "metadata": {},
   "source": [
    "Implement “Forward” and “Back” buttons of browser using Stacks. Elements need to be \n",
    "stored are URLs. "
   ]
  },
  {
   "cell_type": "code",
   "execution_count": 11,
   "id": "5e0f37d9",
   "metadata": {},
   "outputs": [
    {
     "name": "stdout",
     "output_type": "stream",
     "text": [
      "google.com\n",
      "stackoverflow.com\n"
     ]
    }
   ],
   "source": [
    "class BrowserStack:\n",
    "    def __init__(self):\n",
    "        self.back_stack = []\n",
    "        self.forward_stack = []\n",
    "        self.current = None\n",
    "\n",
    "    def visit(self, url: str):\n",
    "        if self.current:\n",
    "            self.back_stack.append(self.current)\n",
    "        self.current = url\n",
    "        self.forward_stack.clear()\n",
    "\n",
    "    def back(self):\n",
    "        if self.back_stack:\n",
    "            self.forward_stack.append(self.current)\n",
    "            self.current = self.back_stack.pop()\n",
    "            return self.current\n",
    "        return None\n",
    "\n",
    "    def forward(self):\n",
    "        if self.forward_stack:\n",
    "            self.back_stack.append(self.current)\n",
    "            self.current = self.forward_stack.pop()\n",
    "            return self.current\n",
    "        return None\n",
    "\n",
    "browser = BrowserStack()\n",
    "browser.visit(\"google.com\")\n",
    "browser.visit(\"stackoverflow.com\")\n",
    "print(browser.back())      \n",
    "print(browser.forward())   "
   ]
  },
  {
   "cell_type": "markdown",
   "id": "35ac4ce7",
   "metadata": {},
   "source": [
    "Modify Q5 such that HTML tags may contain attributes along with tag name."
   ]
  },
  {
   "cell_type": "code",
   "execution_count": 12,
   "id": "9cd22561",
   "metadata": {},
   "outputs": [
    {
     "name": "stdout",
     "output_type": "stream",
     "text": [
      "True\n"
     ]
    }
   ],
   "source": [
    "import re\n",
    "\n",
    "class HTMLTagMatcherWithAttrs:\n",
    "    def __init__(self):\n",
    "        pass\n",
    "\n",
    "    def match(self, html: str) -> bool:\n",
    "        tags = re.findall(r'<(/?)([a-zA-Z0-9]+)(?:\\s[^>]*)?>', html)\n",
    "        stack = []\n",
    "        for slash, tag in tags:\n",
    "            if slash == '':\n",
    "                stack.append(tag)\n",
    "            else:\n",
    "                if not stack or stack.pop() != tag:\n",
    "                    return False\n",
    "        return len(stack) == 0\n",
    "\n",
    "matcher_attrs = HTMLTagMatcherWithAttrs()\n",
    "html = '<div class=\"container\"><p id=\"para\">Hello</p></div>'\n",
    "print(matcher_attrs.match(html)) "
   ]
  }
 ],
 "metadata": {
  "kernelspec": {
   "display_name": "Python 3",
   "language": "python",
   "name": "python3"
  },
  "language_info": {
   "codemirror_mode": {
    "name": "ipython",
    "version": 3
   },
   "file_extension": ".py",
   "mimetype": "text/x-python",
   "name": "python",
   "nbconvert_exporter": "python",
   "pygments_lexer": "ipython3",
   "version": "3.11.4"
  }
 },
 "nbformat": 4,
 "nbformat_minor": 5
}
